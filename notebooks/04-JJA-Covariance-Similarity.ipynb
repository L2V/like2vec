{
 "cells": [
  {
   "cell_type": "code",
   "execution_count": null,
   "metadata": {
    "collapsed": true
   },
   "outputs": [],
   "source": [
    "import pandas as pd\n",
    "import numpy as np\n",
    "import math\n",
    "import pickle\n",
    "import matplotlib.pyplot as plt\n",
    "%matplotlib inline"
   ]
  },
  {
   "cell_type": "code",
   "execution_count": null,
   "metadata": {
    "collapsed": true
   },
   "outputs": [],
   "source": [
    "def loading_data(filepath):\n",
    "    #loading data\n",
    "    ml = pd.read_csv(filepath, header=None)\n",
    "    ml.columns = ['User','Item','ItemRating']\n",
    "    return ml"
   ]
  },
  {
   "cell_type": "code",
   "execution_count": null,
   "metadata": {
    "collapsed": true
   },
   "outputs": [],
   "source": [
    "def create_interaction_cov(ml):\n",
    "    # creating matrix from transactions\n",
    "    ml_user_item_matrix = ml.pivot(index='User', columns='Item', values='ItemRating')\n",
    "    ml_user_item_matrix = ml_user_item_matrix.fillna(0)\n",
    "    ml_user_item_matrix = ml_user_item_matrix.reindex(index=range(ml_user_item_matrix.index.max() + 1), columns= range(ml_user_item_matrix.columns.max() + 1), fill_value=0)\n",
    "    \n",
    "    # create user covariance matrix\n",
    "    cov_ml = np.dot(ml_user_item_matrix.values,ml_user_item_matrix.T.values)\n",
    "    \n",
    "    return ml_user_item_matrix, cov_ml"
   ]
  },
  {
   "cell_type": "code",
   "execution_count": null,
   "metadata": {
    "collapsed": true
   },
   "outputs": [],
   "source": [
    "def neighbors(cov_ml, user):\n",
    "    # 'cov_ml' is the covariance matrix\n",
    "    nn = np.argsort(-cov_ml[user,:])  # all neighbors sorted descending\n",
    "    # I previously had a -1, double check\n",
    "    return nn"
   ]
  },
  {
   "cell_type": "code",
   "execution_count": null,
   "metadata": {
    "collapsed": true
   },
   "outputs": [],
   "source": [
    "def prediction(ml_user_item_matrix, cov_ml, nn, user, item, number_of_n=10):\n",
    "    neighbors = []\n",
    "    \n",
    "    # populating 'neighbors' with defined 'number_of_n'\n",
    "    for n in nn:\n",
    "        if len(neighbors) < number_of_n:\n",
    "            if n in ml_user_item_matrix.index:\n",
    "                # enforcing that neighbors have rated the item \n",
    "                if ml_user_item_matrix[item][n] != 0:\n",
    "                    neighbors.append(n)\n",
    "\n",
    "    # total weight of N neighbors\n",
    "    total_distance = sum(cov_ml[user, neighbors])\n",
    "\n",
    "    # get the proportion of weight for each neighbor\n",
    "    weighted_input = cov_ml[user, neighbors] / total_distance\n",
    "\n",
    "    # creating prediction from weighted average of neighbors ratings\n",
    "\n",
    "    # getting the rating of the item to the predicted from each of the neighbors\n",
    "    neighbors_ratings = []\n",
    "    for e in neighbors:\n",
    "        neighbors_ratings.append(ml_user_item_matrix[item][e])\n",
    "\n",
    "    weighted_rate = neighbors_ratings * weighted_input\n",
    "    prediction_rate = weighted_rate.sum()\n",
    "\n",
    "    return weighted_input, neighbors_ratings, prediction_rate"
   ]
  },
  {
   "cell_type": "markdown",
   "metadata": {},
   "source": [
    "### Load training set and Create interaction matrix"
   ]
  },
  {
   "cell_type": "code",
   "execution_count": null,
   "metadata": {
    "collapsed": true
   },
   "outputs": [],
   "source": [
    "ml2 = loading_data(\"data/ml1m-train-clean\")\n",
    "ml_user_item_matrix, cov_ml = create_interaction_cov(ml2)"
   ]
  },
  {
   "cell_type": "code",
   "execution_count": null,
   "metadata": {
    "collapsed": true
   },
   "outputs": [],
   "source": [
    "ml_user_item_matrix.shape, cov_ml.shape"
   ]
  },
  {
   "cell_type": "markdown",
   "metadata": {},
   "source": [
    "> There are 6041 users and 3953 items\n",
    "+ When we create a User covariance similarity matrix we end up with a 6041x6041 U/U matrix"
   ]
  },
  {
   "cell_type": "code",
   "execution_count": null,
   "metadata": {
    "collapsed": true
   },
   "outputs": [],
   "source": [
    "ml_user_item_matrix.head()"
   ]
  },
  {
   "cell_type": "code",
   "execution_count": null,
   "metadata": {
    "collapsed": true
   },
   "outputs": [],
   "source": [
    "# find neighbors of user \"1\"\n",
    "u = 1\n",
    "nn = neighbors(cov_ml, u)"
   ]
  },
  {
   "cell_type": "code",
   "execution_count": null,
   "metadata": {
    "collapsed": true
   },
   "outputs": [],
   "source": [
    "nn"
   ]
  },
  {
   "cell_type": "code",
   "execution_count": null,
   "metadata": {
    "collapsed": true
   },
   "outputs": [],
   "source": [
    "i = 2018"
   ]
  },
  {
   "cell_type": "code",
   "execution_count": null,
   "metadata": {
    "collapsed": true
   },
   "outputs": [],
   "source": [
    "# to make prediction for user ='1' and item '2018'\n",
    "weighted_input, ratings_for_item, prediction_rate = prediction(ml_user_item_matrix, cov_ml, nn, u, i, number_of_n=10)"
   ]
  },
  {
   "cell_type": "code",
   "execution_count": null,
   "metadata": {
    "collapsed": true
   },
   "outputs": [],
   "source": [
    "prediction_rate"
   ]
  },
  {
   "cell_type": "markdown",
   "metadata": {},
   "source": [
    "## Load validation set"
   ]
  },
  {
   "cell_type": "code",
   "execution_count": null,
   "metadata": {
    "collapsed": true
   },
   "outputs": [],
   "source": [
    "val = pd.read_csv(\"data/ml1m-validation-clean\", header=None)\n",
    "val.columns = ['User','Item','ItemRating']"
   ]
  },
  {
   "cell_type": "code",
   "execution_count": null,
   "metadata": {
    "collapsed": true
   },
   "outputs": [],
   "source": [
    "val.head()"
   ]
  },
  {
   "cell_type": "markdown",
   "metadata": {},
   "source": [
    "## Make Predictions"
   ]
  },
  {
   "cell_type": "markdown",
   "metadata": {},
   "source": [
    "To make predictions, we need to:\n",
    "+ find the neighbors of user \"u\"\n",
    "+ calculate a weighted average of the ratings of movie \"i\" for the neighbors of \"u\""
   ]
  },
  {
   "cell_type": "markdown",
   "metadata": {},
   "source": [
    "Lets calculate the neighbors for each of the users in the test/val set and add them to the dataframe"
   ]
  },
  {
   "cell_type": "code",
   "execution_count": null,
   "metadata": {
    "collapsed": true
   },
   "outputs": [],
   "source": [
    "val[\"Neighbors\"] = val[\"User\"].apply(lambda x: neighbors(cov_ml, x))"
   ]
  },
  {
   "cell_type": "code",
   "execution_count": null,
   "metadata": {
    "collapsed": true
   },
   "outputs": [],
   "source": [
    "val.head()"
   ]
  },
  {
   "cell_type": "code",
   "execution_count": null,
   "metadata": {
    "collapsed": true
   },
   "outputs": [],
   "source": [
    "users = val[\"User\"].values\n",
    "items = val[\"Item\"].values\n",
    "nn = val[\"Neighbors\"].values"
   ]
  },
  {
   "cell_type": "markdown",
   "metadata": {},
   "source": [
    "Lets test the prediction process through the first **5 items** in the test set, using **10 nearest neighbors**"
   ]
  },
  {
   "cell_type": "code",
   "execution_count": null,
   "metadata": {
    "collapsed": true
   },
   "outputs": [],
   "source": [
    "prediction_rates = []\n",
    "for i in range(5):\n",
    "    prediction_rates.append(prediction(ml_user_item_matrix, cov_ml, nn[i], users[i], items[i], number_of_n=10)[2])"
   ]
  },
  {
   "cell_type": "code",
   "execution_count": null,
   "metadata": {
    "collapsed": true
   },
   "outputs": [],
   "source": [
    "prediction_rates"
   ]
  },
  {
   "cell_type": "code",
   "execution_count": null,
   "metadata": {
    "collapsed": true
   },
   "outputs": [],
   "source": [
    "# Adding predictions to dataframe\n",
    "pred200 = pd.Series(prediction_rates200)\n",
    "val200['Prediction'] = pred200.values"
   ]
  },
  {
   "cell_type": "markdown",
   "metadata": {},
   "source": [
    "## Calculate RMSE"
   ]
  },
  {
   "cell_type": "markdown",
   "metadata": {},
   "source": [
    "The prediction loop was used for a range of neighbors. Each of the outputs added to a column named \"Prediction\" and the dataframe were pickled with the following names:\n",
    "+ val200.pickle\n",
    "+ val300.pickle\n",
    "+ val400.pickle\n",
    "+ val500.pickle\n",
    "+ val600.pickle\n",
    "+ val700.pickle\n",
    "+ val800.pickle\n",
    "+ val900.pickle\n",
    "+ val1000.pickle"
   ]
  },
  {
   "cell_type": "code",
   "execution_count": null,
   "metadata": {
    "collapsed": true
   },
   "outputs": [],
   "source": [
    "def calculate_RMSE(pickle_path):\n",
    "    # Load pickled file with \"Prediction\"\n",
    "    nn = pd.read_pickle(pickle_path)\n",
    "    # Calculate \"Error\" for each prediction\n",
    "    nn[\"Error\"] = (nn[\"ItemRating\"] - nn[\"Prediction\"])**2\n",
    "    number_of_preds = nn.shape[0]\n",
    "    # Root mean square error\n",
    "    rmse = math.sqrt(nn[\"Error\"].sum() / number_of_preds)\n",
    "    return rmse"
   ]
  },
  {
   "cell_type": "code",
   "execution_count": null,
   "metadata": {
    "collapsed": true
   },
   "outputs": [],
   "source": [
    "rmse200 = calculate_RMSE(\"data/val200.pickle\")"
   ]
  },
  {
   "cell_type": "code",
   "execution_count": null,
   "metadata": {
    "collapsed": true
   },
   "outputs": [],
   "source": [
    "rmse200"
   ]
  },
  {
   "cell_type": "code",
   "execution_count": null,
   "metadata": {
    "collapsed": true
   },
   "outputs": [],
   "source": [
    "rmse300 = calculate_RMSE(\"data/val300.pickle\")\n",
    "rmse400 = calculate_RMSE(\"data/val400.pickle\")\n",
    "rmse500 = calculate_RMSE(\"data/val500.pickle\")\n",
    "rmse600 = calculate_RMSE(\"data/val600.pickle\")\n",
    "rmse700 = calculate_RMSE(\"data/val700.pickle\")\n",
    "rmse800 = calculate_RMSE(\"data/val800.pickle\")\n",
    "rmse900 = calculate_RMSE(\"data/val900.pickle\")\n",
    "rmse1000 = calculate_RMSE(\"data/val1000.pickle\")"
   ]
  },
  {
   "cell_type": "code",
   "execution_count": null,
   "metadata": {
    "collapsed": true
   },
   "outputs": [],
   "source": [
    "x = np.linspace(200, 1000, 9)"
   ]
  },
  {
   "cell_type": "code",
   "execution_count": null,
   "metadata": {
    "collapsed": true
   },
   "outputs": [],
   "source": [
    "x"
   ]
  },
  {
   "cell_type": "code",
   "execution_count": null,
   "metadata": {
    "collapsed": true
   },
   "outputs": [],
   "source": [
    "rmse_values = [rmse200, rmse300, rmse400, rmse500, rmse600, rmse700, rmse800, rmse900, rmse1000]"
   ]
  },
  {
   "cell_type": "code",
   "execution_count": null,
   "metadata": {
    "collapsed": true
   },
   "outputs": [],
   "source": [
    "data = { \"neighbors\": x, \"COV-RMSE\": rmse_values}"
   ]
  },
  {
   "cell_type": "code",
   "execution_count": null,
   "metadata": {
    "collapsed": true
   },
   "outputs": [],
   "source": [
    "data"
   ]
  },
  {
   "cell_type": "code",
   "execution_count": null,
   "metadata": {
    "collapsed": true
   },
   "outputs": [],
   "source": [
    "neighbors = pd.DataFrame(data = data, columns=[\"neighbors\", \"COV-RMSE\"])"
   ]
  },
  {
   "cell_type": "code",
   "execution_count": null,
   "metadata": {
    "collapsed": true
   },
   "outputs": [],
   "source": [
    "neighbors.head()"
   ]
  },
  {
   "cell_type": "code",
   "execution_count": null,
   "metadata": {
    "collapsed": true
   },
   "outputs": [],
   "source": [
    "ax = neighbors.plot( x=\"neighbors\",style=['rx'], figsize=(8,4));\n",
    "ax.set_ylabel(\"RMSE\");\n",
    "ax.set_xlabel(\"Neighbors\");\n",
    "ax.set_title(\"Evaluation Scores\");"
   ]
  },
  {
   "cell_type": "markdown",
   "metadata": {},
   "source": [
    "## Comparing results"
   ]
  },
  {
   "cell_type": "code",
   "execution_count": null,
   "metadata": {
    "collapsed": true
   },
   "outputs": [],
   "source": [
    "l2v_exp = pd.read_pickle(\"data/l2v-neighbors.pickle\")\n",
    "l2v_neighbors = l2v_exp[[\"pred_neighbors\",\"eval_score\"]]\n",
    "l2v_neighbors.columns = [\"pred_neighbors\",\"L2V-RMSE\"]\n",
    "l2v_neighbors.head()"
   ]
  },
  {
   "cell_type": "code",
   "execution_count": null,
   "metadata": {
    "collapsed": true
   },
   "outputs": [],
   "source": [
    "# adding COV-RMSE to dataframe containing l2V-RMSE\n",
    "# l2v_neighbors.loc[l2v_neighbors.pred_neighbors == 200, \"COV-RMSE\"] = rmse200"
   ]
  },
  {
   "cell_type": "code",
   "execution_count": 84,
   "metadata": {},
   "outputs": [
    {
     "data": {
      "image/png": "[encoded data removed]",
      "text/plain": [
       "<matplotlib.figure.Figure at 0x10f89df98>"
      ]
     },
     "metadata": {},
     "output_type": "display_data"
    }
   ],
   "source": [
    "ax = l2v_neighbors.plot( x=\"pred_neighbors\",style=['o','rx'], figsize=(8,4));\n",
    "ax.set_ylabel(\"RMSE\");\n",
    "ax.set_xlabel(\"Neighbors\");\n",
    "ax.set_title(\"Evaluation Scores\");"
   ]
  },
  {
   "cell_type": "markdown",
   "metadata": {},
   "source": [
    "> The hyperparameters for L2v in the comparison are the experiments listed below (which can be found in \"/CONFIG\" folder in s3)"
   ]
  },
  {
   "cell_type": "code",
   "execution_count": 85,
   "metadata": {
    "collapsed": true
   },
   "outputs": [],
   "source": [
    "import sqlalchemy\n",
    "import psycopg2"
   ]
  },
  {
   "cell_type": "code",
   "execution_count": 86,
   "metadata": {
    "collapsed": true
   },
   "outputs": [],
   "source": [
    "db_string = \"postgresql://localhost:5433/jaimealmeida\"\n",
    "engine = sqlalchemy.create_engine(db_string)"
   ]
  },
  {
   "cell_type": "code",
   "execution_count": 92,
   "metadata": {
    "collapsed": true
   },
   "outputs": [],
   "source": [
    "the_frame = pd.read_sql_query(\"SELECT experimentid, pred_neighbors, eval_score  FROM %s WHERE pred_neighbors > 100 and pred_neighbors < 1100;\" % \"experiments\", engine)"
   ]
  },
  {
   "cell_type": "code",
   "execution_count": 94,
   "metadata": {},
   "outputs": [
    {
     "data": {
      "text/html": [
       "<div>\n",
       "<style>\n",
       "    .dataframe thead tr:only-child th {\n",
       "        text-align: right;\n",
       "    }\n",
       "\n",
       "    .dataframe thead th {\n",
       "        text-align: left;\n",
       "    }\n",
       "\n",
       "    .dataframe tbody tr th {\n",
       "        vertical-align: top;\n",
       "    }\n",
       "</style>\n",
       "<table border=\"1\" class=\"dataframe\">\n",
       "  <thead>\n",
       "    <tr style=\"text-align: right;\">\n",
       "      <th></th>\n",
       "      <th>experimentid</th>\n",
       "      <th>pred_neighbors</th>\n",
       "      <th>eval_score</th>\n",
       "    </tr>\n",
       "  </thead>\n",
       "  <tbody>\n",
       "    <tr>\n",
       "      <th>4</th>\n",
       "      <td>du05-d100w10l80n10d30-p5q1-200-072717</td>\n",
       "      <td>200</td>\n",
       "      <td>1.527724</td>\n",
       "    </tr>\n",
       "    <tr>\n",
       "      <th>1</th>\n",
       "      <td>du05-d100w10l80n10d30-p5q1-300-072717</td>\n",
       "      <td>300</td>\n",
       "      <td>1.449006</td>\n",
       "    </tr>\n",
       "    <tr>\n",
       "      <th>2</th>\n",
       "      <td>du05-d100w10l80n10d30-p5q1-400-072717</td>\n",
       "      <td>400</td>\n",
       "      <td>1.409381</td>\n",
       "    </tr>\n",
       "    <tr>\n",
       "      <th>3</th>\n",
       "      <td>du05-d100w10l80n10d30-p5q1-500-072717</td>\n",
       "      <td>500</td>\n",
       "      <td>1.383879</td>\n",
       "    </tr>\n",
       "    <tr>\n",
       "      <th>5</th>\n",
       "      <td>du05-d100w10l80n10d30-p5q1-600-072717</td>\n",
       "      <td>600</td>\n",
       "      <td>1.368604</td>\n",
       "    </tr>\n",
       "    <tr>\n",
       "      <th>6</th>\n",
       "      <td>du05-d100w10l80n10d30-p5q1-700-072717</td>\n",
       "      <td>700</td>\n",
       "      <td>1.356443</td>\n",
       "    </tr>\n",
       "    <tr>\n",
       "      <th>7</th>\n",
       "      <td>du05-d100w10l80n10d30-p5q1-800-072717</td>\n",
       "      <td>800</td>\n",
       "      <td>1.348276</td>\n",
       "    </tr>\n",
       "    <tr>\n",
       "      <th>8</th>\n",
       "      <td>du05-d100w10l80n10d30-p5q1-900-072717</td>\n",
       "      <td>900</td>\n",
       "      <td>1.342677</td>\n",
       "    </tr>\n",
       "    <tr>\n",
       "      <th>0</th>\n",
       "      <td>du05-d100w10l80n10d30-p5q1-1000-072717</td>\n",
       "      <td>1000</td>\n",
       "      <td>1.337528</td>\n",
       "    </tr>\n",
       "  </tbody>\n",
       "</table>\n",
       "</div>"
      ],
      "text/plain": [
       "                             experimentid  pred_neighbors  eval_score\n",
       "4   du05-d100w10l80n10d30-p5q1-200-072717             200    1.527724\n",
       "1   du05-d100w10l80n10d30-p5q1-300-072717             300    1.449006\n",
       "2   du05-d100w10l80n10d30-p5q1-400-072717             400    1.409381\n",
       "3   du05-d100w10l80n10d30-p5q1-500-072717             500    1.383879\n",
       "5   du05-d100w10l80n10d30-p5q1-600-072717             600    1.368604\n",
       "6   du05-d100w10l80n10d30-p5q1-700-072717             700    1.356443\n",
       "7   du05-d100w10l80n10d30-p5q1-800-072717             800    1.348276\n",
       "8   du05-d100w10l80n10d30-p5q1-900-072717             900    1.342677\n",
       "0  du05-d100w10l80n10d30-p5q1-1000-072717            1000    1.337528"
      ]
     },
     "execution_count": 94,
     "metadata": {},
     "output_type": "execute_result"
    }
   ],
   "source": [
    "the_frame.sort_values(by=\"pred_neighbors\")"
   ]
  },
  {
   "cell_type": "code",
   "execution_count": null,
   "metadata": {
    "collapsed": true
   },
   "outputs": [],
   "source": []
  }
 ],
 "metadata": {
  "kernelspec": {
   "display_name": "Python 3",
   "language": "python",
   "name": "python3"
  },
  "language_info": {
   "codemirror_mode": {
    "name": "ipython",
    "version": 3
   },
   "file_extension": ".py",
   "mimetype": "text/x-python",
   "name": "python",
   "nbconvert_exporter": "python",
   "pygments_lexer": "ipython3",
   "version": "3.6.0"
  }
 },
 "nbformat": 4,
 "nbformat_minor": 2
}
