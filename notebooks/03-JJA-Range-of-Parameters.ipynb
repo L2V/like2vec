{
 "cells": [
  {
   "cell_type": "markdown",
   "metadata": {
    "collapsed": true
   },
   "source": [
    "This function will take a pipeline parameter and create configuration files with ranges of values. These configuration files will be the input for the two previous sets of scripts."
   ]
  },
  {
   "cell_type": "code",
   "execution_count": 4,
   "metadata": {
    "collapsed": true
   },
   "outputs": [],
   "source": [
    "import yaml\n",
    "import datetime"
   ]
  },
  {
   "cell_type": "code",
   "execution_count": 2,
   "metadata": {
    "collapsed": true
   },
   "outputs": [],
   "source": [
    "def create_config(original_file, module, parameter_to_change, values, exp):\n",
    "    f_folders =[]\n",
    "    with open(original_file, 'r') as ymlfile:\n",
    "        l2v_cfg = yaml.load(ymlfile)\n",
    "\n",
    "    print(\"module: \", module)    \n",
    "    print(\"parameter_to_change: \", parameter_to_change)\n",
    "    print(\"current value: \", l2v_cfg[module][parameter_to_change])\n",
    "    \n",
    "    print(\"values to add: \", values)    \n",
    "    \n",
    "    old_l2v_cfg = l2v_cfg.copy()\n",
    "    \n",
    "    for value in values:\n",
    "        l2v_cfg[module][parameter_to_change] = value\n",
    "        \n",
    "        today = datetime.datetime.now().strftime(\"%m%d%y\")\n",
    "        v = \"ex\" + str(exp) + \"-\" +l2v_cfg[\"LLR\"][\"options\"][0] + l2v_cfg[\"LLR\"][\"useroritem\"][0] + str(l2v_cfg[\"LLR\"][\"threshold\"]).replace(\".\", \"\")\n",
    "        l = \"d\" + str(l2v_cfg[\"EMBEDDINGS\"][\"dim\"]) + \"w\" + str(l2v_cfg[\"EMBEDDINGS\"][\"numWalks\"]) + \"l\" + str(l2v_cfg[\"EMBEDDINGS\"][\"walkLength\"]) + \"n\" +str(l2v_cfg[\"EMBEDDINGS\"][\"window\"]) + \"d\" + str(l2v_cfg[\"EMBEDDINGS\"][\"degree\"]) + \"p\" + str(l2v_cfg[\"EMBEDDINGS\"][\"p\"]) + \"q\" + str(l2v_cfg[\"EMBEDDINGS\"][\"q\"])\n",
    "        k = \"-\" + str(l2v_cfg[\"PREDICTIONS\"][\"neighbors\"]) + \"-\"\n",
    "        filename = v + l + k + today + \"-params.yml\"\n",
    "        \n",
    "        with open(filename, 'w') as outfile:\n",
    "            yaml.dump(l2v_cfg, outfile, default_flow_style=False)\n",
    "        \n",
    "        l2v_cfg = old_l2v_cfg.copy()\n",
    "        print(\"Created file: \", filename)\n",
    "        f_folders.append(filename)\n",
    "        exp = exp + 1\n",
    "    return f_folders"
   ]
  },
  {
   "cell_type": "markdown",
   "metadata": {},
   "source": [
    "In this example I will use \"EMBEDDINGS\" module and the \"p\" parameter to be assigned the range from 6 to 9"
   ]
  },
  {
   "cell_type": "code",
   "execution_count": 5,
   "metadata": {},
   "outputs": [
    {
     "name": "stdout",
     "output_type": "stream",
     "text": [
      "module:  EMBEDDINGS\n",
      "parameter_to_change:  p\n",
      "current value:  5\n",
      "values to add:  [6, 7, 8, 9]\n",
      "Created file:  ex3-du05d100w10l80n10d30p6q1-900-081017-params.yml\n",
      "Created file:  ex4-du05d100w10l80n10d30p7q1-900-081017-params.yml\n",
      "Created file:  ex5-du05d100w10l80n10d30p8q1-900-081017-params.yml\n",
      "Created file:  ex6-du05d100w10l80n10d30p9q1-900-081017-params.yml\n"
     ]
    }
   ],
   "source": [
    "f_p = create_config(\"CONFIGS/ex3420-du05d100w10l80n10d30p5q1-900-072717-params.yml\", \"EMBEDDINGS\", \"p\", [6, 7, 8, 9], 3)"
   ]
  },
  {
   "cell_type": "code",
   "execution_count": null,
   "metadata": {
    "collapsed": true
   },
   "outputs": [],
   "source": []
  }
 ],
 "metadata": {
  "kernelspec": {
   "display_name": "Python 3",
   "language": "python",
   "name": "python3"
  },
  "language_info": {
   "codemirror_mode": {
    "name": "ipython",
    "version": 3
   },
   "file_extension": ".py",
   "mimetype": "text/x-python",
   "name": "python",
   "nbconvert_exporter": "python",
   "pygments_lexer": "ipython3",
   "version": "3.6.0"
  }
 },
 "nbformat": 4,
 "nbformat_minor": 2
}
