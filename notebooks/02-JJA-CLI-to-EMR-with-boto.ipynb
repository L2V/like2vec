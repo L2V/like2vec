{
 "cells": [
  {
   "cell_type": "markdown",
   "metadata": {},
   "source": [
    "The following code will take the CLI commands produced in `01-JJA-L2V-Configuration-Files` notebook"
   ]
  },
  {
   "cell_type": "markdown",
   "metadata": {},
   "source": [
    "+ You need to install aws cli    \n",
    "http://docs.aws.amazon.com/cli/latest/userguide/installing.html"
   ]
  },
  {
   "cell_type": "markdown",
   "metadata": {},
   "source": [
    "+ You need to run** `aws config` **"
   ]
  },
  {
   "cell_type": "markdown",
   "metadata": {},
   "source": [
    "Let's import the functions defined before for loading parameters"
   ]
  },
  {
   "cell_type": "code",
   "execution_count": 1,
   "metadata": {
    "collapsed": true
   },
   "outputs": [],
   "source": [
    "from load_config import params_to_cli"
   ]
  },
  {
   "cell_type": "code",
   "execution_count": 2,
   "metadata": {
    "collapsed": true
   },
   "outputs": [],
   "source": [
    "llr, emb, pred = params_to_cli(\"CONFIGS/ex1-ml-1m-config.yml\", \"CONFIGS/test-params.yml\")"
   ]
  },
  {
   "cell_type": "code",
   "execution_count": 3,
   "metadata": {},
   "outputs": [
    {
     "data": {
      "text/plain": [
       "'spark-submit --deploy-mode cluster --class llr.LLR s3://sandbox-l2v/JARs/llr-assembly-1.2.jar --master yarn --options default --useroritem user --threshold 0.5 --interactionsFile s3://sandbox-l2v/datasets/ml-1m/split/split-cleaned-formatted-4and5/ml1m-train-clean4and5 --outputFile s3://sandbox-l2v/datasets/ml-1m/llr_output/llr12-081017-du05 --separator \",\" --maxInteractionsPerUserOrItem 500 --seed 12345'"
      ]
     },
     "execution_count": 3,
     "metadata": {},
     "output_type": "execute_result"
    }
   ],
   "source": [
    "llr"
   ]
  },
  {
   "cell_type": "markdown",
   "metadata": {},
   "source": [
    "This function will format the AWS CLI commands so we can pass them to the cluster using `boto3`"
   ]
  },
  {
   "cell_type": "code",
   "execution_count": 4,
   "metadata": {
    "collapsed": true
   },
   "outputs": [],
   "source": [
    "def create_steps(llr=None, emb=None, pred=None, name=''):\n",
    "    if llr != None:\n",
    "        Steps=[\n",
    "\n",
    "        {\n",
    "            'Name': name + '-LLR',\n",
    "            'ActionOnFailure': 'CONTINUE',\n",
    "            'HadoopJarStep': {\n",
    "                'Jar': 'command-runner.jar',\n",
    "                'Args': (llr).split(),\n",
    "            }\n",
    "        },\n",
    "        {\n",
    "            'Name': name + '-EMB',\n",
    "            'ActionOnFailure': 'CONTINUE',\n",
    "            'HadoopJarStep': {\n",
    "                'Jar': 'command-runner.jar',\n",
    "                'Args': (emb).split(),\n",
    "            }\n",
    "        },\n",
    "        {\n",
    "            'Name': name + '-PRED',\n",
    "            'ActionOnFailure': 'CONTINUE',\n",
    "            'HadoopJarStep': {\n",
    "                'Jar': 'command-runner.jar',\n",
    "                'Args': (pred).split(),\n",
    "            }\n",
    "        }\n",
    "    ]\n",
    "    else:\n",
    "        Steps=[\n",
    "        {\n",
    "            'Name': name + '-EMB',\n",
    "            'ActionOnFailure': 'CONTINUE',\n",
    "            'HadoopJarStep': {\n",
    "                'Jar': 'command-runner.jar',\n",
    "                'Args': (emb).split(),\n",
    "            }\n",
    "        },\n",
    "        {\n",
    "            'Name': name + '-PRED',\n",
    "            'ActionOnFailure': 'CONTINUE',\n",
    "            'HadoopJarStep': {\n",
    "                'Jar': 'command-runner.jar',\n",
    "                'Args': (pred).split(),\n",
    "            }\n",
    "        }\n",
    "    ]\n",
    "                     \n",
    "            \n",
    "    return Steps\n",
    "    "
   ]
  },
  {
   "cell_type": "markdown",
   "metadata": {},
   "source": [
    "To load the commands into EMR"
   ]
  },
  {
   "cell_type": "markdown",
   "metadata": {},
   "source": [
    "Here we create steps based on the three steps in the pipeline"
   ]
  },
  {
   "cell_type": "code",
   "execution_count": 5,
   "metadata": {
    "collapsed": true
   },
   "outputs": [],
   "source": [
    "ex2 = create_steps(llr=llr, emb=emb, pred=pred, name='EXP2')\n",
    "# ex3 = create_steps(emb=emb347, pred=pred347, name='EXP3')\n",
    "# ex4 = create_steps(emb=emb348, pred=pred348, name='EXP4')\n",
    "# ex5 = create_steps(emb=emb349, pred=pred349, name='EXP5')"
   ]
  },
  {
   "cell_type": "markdown",
   "metadata": {},
   "source": [
    "If we are adding multiple runs of the pipeline"
   ]
  },
  {
   "cell_type": "code",
   "execution_count": 6,
   "metadata": {
    "collapsed": true
   },
   "outputs": [],
   "source": [
    "# steps = ex2 + ex3 + ex4 + ex5\n",
    "steps = ex2"
   ]
  },
  {
   "cell_type": "markdown",
   "metadata": {},
   "source": [
    "To run the steps into EMR using boto3"
   ]
  },
  {
   "cell_type": "code",
   "execution_count": 7,
   "metadata": {
    "collapsed": true
   },
   "outputs": [],
   "source": [
    "import boto3"
   ]
  },
  {
   "cell_type": "code",
   "execution_count": 8,
   "metadata": {
    "collapsed": true
   },
   "outputs": [],
   "source": [
    "client = boto3.client('emr')"
   ]
  },
  {
   "cell_type": "code",
   "execution_count": 9,
   "metadata": {
    "collapsed": true
   },
   "outputs": [],
   "source": [
    "cluster_id = 'j-3OPHOXTNBHNLC'"
   ]
  },
  {
   "cell_type": "code",
   "execution_count": 10,
   "metadata": {
    "collapsed": true
   },
   "outputs": [],
   "source": [
    "response = client.add_job_flow_steps(\n",
    "    JobFlowId = cluster_id,\n",
    "    Steps= steps\n",
    ")"
   ]
  },
  {
   "cell_type": "code",
   "execution_count": 11,
   "metadata": {},
   "outputs": [
    {
     "data": {
      "text/plain": [
       "{'ResponseMetadata': {'HTTPHeaders': {'content-length': '66',\n",
       "   'content-type': 'application/x-amz-json-1.1',\n",
       "   'date': 'Thu, 10 Aug 2017 21:35:19 GMT',\n",
       "   'x-amzn-requestid': 'ce51dfcc-7e13-11e7-8f91-cb7d288c1524'},\n",
       "  'HTTPStatusCode': 200,\n",
       "  'RequestId': 'ce51dfcc-7e13-11e7-8f91-cb7d288c1524',\n",
       "  'RetryAttempts': 0},\n",
       " 'StepIds': ['s-2QE3QVH7JT97U', 's-1EJYM23D8X4QL', 's-Y0J80Q60ZGFF']}"
      ]
     },
     "execution_count": 11,
     "metadata": {},
     "output_type": "execute_result"
    }
   ],
   "source": [
    "response"
   ]
  },
  {
   "cell_type": "code",
   "execution_count": null,
   "metadata": {
    "collapsed": true
   },
   "outputs": [],
   "source": []
  }
 ],
 "metadata": {
  "kernelspec": {
   "display_name": "Python 3",
   "language": "python",
   "name": "python3"
  },
  "language_info": {
   "codemirror_mode": {
    "name": "ipython",
    "version": 3
   },
   "file_extension": ".py",
   "mimetype": "text/x-python",
   "name": "python",
   "nbconvert_exporter": "python",
   "pygments_lexer": "ipython3",
   "version": "3.6.0"
  }
 },
 "nbformat": 4,
 "nbformat_minor": 2
}
